{
 "cells": [
  {
   "cell_type": "markdown",
   "metadata": {
    "collapsed": true,
    "pycharm": {
     "name": "#%% md\n"
    }
   },
   "source": [
    "# Transformation"
   ]
  },
  {
   "cell_type": "markdown",
   "source": [
    "\\begin{align}\n",
    "\\sum_{j=1}^{M}{\\left\\| S_j - T_j \\right\\|}_F^2\n",
    "&= \\sum_{j=1}^{M}{\\left\\| S_j - \\widetilde{V}_jV_j^{-1} \\right\\|}_F^2\n",
    "\\\\\n",
    "&= \\sum_{j=1}^{M}{\\left\\| \\left( S_j - \\widetilde{V}_jV_j^{-1} \\right)^T \\right\\|}_F^2\n",
    "\\\\\n",
    "&= \\sum_{j=1}^{M}{\\left\\| S_j^T - {V_j^{-1}}^T \\widetilde{V}_j^T \\right\\|}_F^2\n",
    "\\\\\n",
    "&= \\sum_{j=1}^{M}{\\left\\| S_j^T - {\\hat{V}_j^{-1}}^T x^T \\right\\|}_F^2\n",
    "\\\\\n",
    "&= {\\left\\|\n",
    "\\begin{pmatrix}\n",
    "S_1^T\n",
    "\\\\\n",
    "S_2^T\n",
    "\\\\\n",
    "...\n",
    "\\\\\n",
    "S_M^T\n",
    "\\end{pmatrix} -\n",
    "\\begin{pmatrix}\n",
    "{\\hat{V_1}^{-1}}^T\n",
    "\\\\\n",
    "{\\hat{V_2}^{-1}}^T\n",
    "\\\\\n",
    "...\n",
    "\\\\\n",
    "{\\hat{V_M}^{-1}}^T\n",
    "\\end{pmatrix} x^T\n",
    "\\right\\|}_F^2\n",
    "\\end{align}"
   ],
   "metadata": {
    "collapsed": false,
    "pycharm": {
     "name": "#%% md\n"
    }
   }
  }
 ],
 "metadata": {
  "kernelspec": {
   "display_name": "Python 3",
   "language": "python",
   "name": "python3"
  },
  "language_info": {
   "codemirror_mode": {
    "name": "ipython",
    "version": 2
   },
   "file_extension": ".py",
   "mimetype": "text/x-python",
   "name": "python",
   "nbconvert_exporter": "python",
   "pygments_lexer": "ipython2",
   "version": "2.7.6"
  }
 },
 "nbformat": 4,
 "nbformat_minor": 0
}